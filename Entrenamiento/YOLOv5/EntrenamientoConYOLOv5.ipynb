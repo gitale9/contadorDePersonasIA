{
  "cells": [
    {
      "cell_type": "markdown",
      "source": [
        "#**Personalización de un modelo de detección de objetos**\n",
        "\n",
        " Se hace un entrenamiento personalizado con YOLOv5, a partir de un dataset en particular dicho modelo se genera para la detección de los objetos requeridos."
      ],
      "metadata": {
        "id": "85JUxj27VNZP"
      }
    },
    {
      "cell_type": "markdown",
      "source": [
        "Primero se clona el repositorio correspondiente, para en seguida instalar las dependencias de este."
      ],
      "metadata": {
        "id": "6XIPdmHa1y14"
      }
    },
    {
      "cell_type": "code",
      "source": [
        "!git clone https://github.com/ultralytics/yolov5  # clone YOLOv5\n",
        "%cd yolov5\n",
        "%pip install -qr requirements.txt # instalar dependencias"
      ],
      "metadata": {
        "id": "2hloYs6SUin5"
      },
      "execution_count": null,
      "outputs": []
    },
    {
      "cell_type": "markdown",
      "source": [
        "En este punto se importan las librerías  necesarias"
      ],
      "metadata": {
        "id": "o8gU68Qd2_TZ"
      }
    },
    {
      "cell_type": "code",
      "source": [
        "import torch\n",
        "import os"
      ],
      "metadata": {
        "id": "NagtNBU7VLB3"
      },
      "execution_count": null,
      "outputs": []
    },
    {
      "cell_type": "markdown",
      "source": [
        "Aquí se debe subir el archivo \".zip\" donde está la base de datos."
      ],
      "metadata": {
        "id": "hKSNO_V33Jdm"
      }
    },
    {
      "cell_type": "code",
      "source": [
        "!unzip -q /content/data.zip -d /content/"
      ],
      "metadata": {
        "id": "k0EkyhGIWSX5"
      },
      "execution_count": null,
      "outputs": []
    },
    {
      "cell_type": "markdown",
      "source": [
        "Ya está todo listo para entrenar el modelo, eso lo hace la siguiente línea de código:\n",
        "\n",
        "\"python train.py --img 224 --batch 5 --epochs 70 --data /content/yolov5/data/custom.yaml --weights yolov5l.pt --cache\"\n",
        "\n",
        "En esta se especifican el tamaño de las imágenes,"
      ],
      "metadata": {
        "id": "iGboLhPG3fXT"
      }
    },
    {
      "cell_type": "code",
      "source": [
        "!python train.py --img 224 --batch 5 --epochs 70 --data /content/yolov5/data/custom.yaml --weights yolov5l.pt --cache"
      ],
      "metadata": {
        "id": "8dTTxoZFaYog"
      },
      "execution_count": null,
      "outputs": []
    },
    {
      "cell_type": "code",
      "source": [
        "#export your model's weights for future use\n",
        "from google.colab import files\n",
        "files.download('./runs/train/exp/weights/best.pt')"
      ],
      "metadata": {
        "colab": {
          "base_uri": "https://localhost:8080/",
          "height": 34
        },
        "id": "NgowiRCww7du",
        "outputId": "b51b7663-a46d-41a0-f562-4d5f60ed9ac9"
      },
      "execution_count": null,
      "outputs": [
        {
          "output_type": "display_data",
          "data": {
            "text/plain": [
              "<IPython.core.display.Javascript object>"
            ],
            "application/javascript": [
              "\n",
              "    async function download(id, filename, size) {\n",
              "      if (!google.colab.kernel.accessAllowed) {\n",
              "        return;\n",
              "      }\n",
              "      const div = document.createElement('div');\n",
              "      const label = document.createElement('label');\n",
              "      label.textContent = `Downloading \"${filename}\": `;\n",
              "      div.appendChild(label);\n",
              "      const progress = document.createElement('progress');\n",
              "      progress.max = size;\n",
              "      div.appendChild(progress);\n",
              "      document.body.appendChild(div);\n",
              "\n",
              "      const buffers = [];\n",
              "      let downloaded = 0;\n",
              "\n",
              "      const channel = await google.colab.kernel.comms.open(id);\n",
              "      // Send a message to notify the kernel that we're ready.\n",
              "      channel.send({})\n",
              "\n",
              "      for await (const message of channel.messages) {\n",
              "        // Send a message to notify the kernel that we're ready.\n",
              "        channel.send({})\n",
              "        if (message.buffers) {\n",
              "          for (const buffer of message.buffers) {\n",
              "            buffers.push(buffer);\n",
              "            downloaded += buffer.byteLength;\n",
              "            progress.value = downloaded;\n",
              "          }\n",
              "        }\n",
              "      }\n",
              "      const blob = new Blob(buffers, {type: 'application/binary'});\n",
              "      const a = document.createElement('a');\n",
              "      a.href = window.URL.createObjectURL(blob);\n",
              "      a.download = filename;\n",
              "      div.appendChild(a);\n",
              "      a.click();\n",
              "      div.remove();\n",
              "    }\n",
              "  "
            ]
          },
          "metadata": {}
        },
        {
          "output_type": "display_data",
          "data": {
            "text/plain": [
              "<IPython.core.display.Javascript object>"
            ],
            "application/javascript": [
              "download(\"download_0a4afaf4-15ad-488a-b010-4b3844cf76e8\", \"best.pt\", 92659797)"
            ]
          },
          "metadata": {}
        }
      ]
    }
  ],
  "metadata": {
    "colab": {
      "provenance": [],
      "gpuType": "T4"
    },
    "kernelspec": {
      "display_name": "Python 3",
      "name": "python3"
    },
    "language_info": {
      "name": "python"
    },
    "accelerator": "GPU"
  },
  "nbformat": 4,
  "nbformat_minor": 0
}